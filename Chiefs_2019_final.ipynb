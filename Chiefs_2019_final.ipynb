{
 "cells": [
  {
   "cell_type": "code",
   "execution_count": 18,
   "metadata": {},
   "outputs": [],
   "source": [
    "import pandas as pd\n",
    "file = 'reg_pbp_2019.csv'"
   ]
  },
  {
   "cell_type": "code",
   "execution_count": 19,
   "metadata": {},
   "outputs": [
    {
     "name": "stderr",
     "output_type": "stream",
     "text": [
      "C:\\Users\\anesbit\\Documents\\Conda_Install\\lib\\site-packages\\IPython\\core\\interactiveshell.py:3057: DtypeWarning: Columns (167,168,169,170,175,176,179,180,183,184,189,190,191,192,195,196,204,205,206,219,220,221,222,223,224,227,228,232,233,234,239,241,242) have mixed types. Specify dtype option on import or set low_memory=False.\n",
      "  interactivity=interactivity, compiler=compiler, result=result)\n"
     ]
    }
   ],
   "source": [
    "df = pd.read_csv(file, encoding=\"ISO-8859-1\")"
   ]
  },
  {
   "cell_type": "code",
   "execution_count": 20,
   "metadata": {},
   "outputs": [
    {
     "data": {
      "text/html": [
       "<div>\n",
       "<style scoped>\n",
       "    .dataframe tbody tr th:only-of-type {\n",
       "        vertical-align: middle;\n",
       "    }\n",
       "\n",
       "    .dataframe tbody tr th {\n",
       "        vertical-align: top;\n",
       "    }\n",
       "\n",
       "    .dataframe thead th {\n",
       "        text-align: right;\n",
       "    }\n",
       "</style>\n",
       "<table border=\"1\" class=\"dataframe\">\n",
       "  <thead>\n",
       "    <tr style=\"text-align: right;\">\n",
       "      <th></th>\n",
       "      <th>play_id</th>\n",
       "      <th>game_id</th>\n",
       "      <th>home_team</th>\n",
       "      <th>away_team</th>\n",
       "      <th>posteam</th>\n",
       "      <th>posteam_type</th>\n",
       "      <th>defteam</th>\n",
       "      <th>side_of_field</th>\n",
       "      <th>yardline_100</th>\n",
       "      <th>game_date</th>\n",
       "      <th>...</th>\n",
       "      <th>penalty_player_id</th>\n",
       "      <th>penalty_player_name</th>\n",
       "      <th>penalty_yards</th>\n",
       "      <th>replay_or_challenge</th>\n",
       "      <th>replay_or_challenge_result</th>\n",
       "      <th>penalty_type</th>\n",
       "      <th>defensive_two_point_attempt</th>\n",
       "      <th>defensive_two_point_conv</th>\n",
       "      <th>defensive_extra_point_attempt</th>\n",
       "      <th>defensive_extra_point_conv</th>\n",
       "    </tr>\n",
       "  </thead>\n",
       "  <tbody>\n",
       "    <tr>\n",
       "      <th>0</th>\n",
       "      <td>35</td>\n",
       "      <td>2019090500</td>\n",
       "      <td>CHI</td>\n",
       "      <td>GB</td>\n",
       "      <td>GB</td>\n",
       "      <td>away</td>\n",
       "      <td>CHI</td>\n",
       "      <td>CHI</td>\n",
       "      <td>35.0</td>\n",
       "      <td>2019-09-05</td>\n",
       "      <td>...</td>\n",
       "      <td>NaN</td>\n",
       "      <td>NaN</td>\n",
       "      <td>NaN</td>\n",
       "      <td>0</td>\n",
       "      <td>NaN</td>\n",
       "      <td>NaN</td>\n",
       "      <td>0.0</td>\n",
       "      <td>0.0</td>\n",
       "      <td>0.0</td>\n",
       "      <td>0.0</td>\n",
       "    </tr>\n",
       "    <tr>\n",
       "      <th>1</th>\n",
       "      <td>50</td>\n",
       "      <td>2019090500</td>\n",
       "      <td>CHI</td>\n",
       "      <td>GB</td>\n",
       "      <td>GB</td>\n",
       "      <td>away</td>\n",
       "      <td>CHI</td>\n",
       "      <td>GB</td>\n",
       "      <td>75.0</td>\n",
       "      <td>2019-09-05</td>\n",
       "      <td>...</td>\n",
       "      <td>NaN</td>\n",
       "      <td>NaN</td>\n",
       "      <td>NaN</td>\n",
       "      <td>0</td>\n",
       "      <td>NaN</td>\n",
       "      <td>NaN</td>\n",
       "      <td>0.0</td>\n",
       "      <td>0.0</td>\n",
       "      <td>0.0</td>\n",
       "      <td>0.0</td>\n",
       "    </tr>\n",
       "    <tr>\n",
       "      <th>2</th>\n",
       "      <td>71</td>\n",
       "      <td>2019090500</td>\n",
       "      <td>CHI</td>\n",
       "      <td>GB</td>\n",
       "      <td>GB</td>\n",
       "      <td>away</td>\n",
       "      <td>CHI</td>\n",
       "      <td>GB</td>\n",
       "      <td>75.0</td>\n",
       "      <td>2019-09-05</td>\n",
       "      <td>...</td>\n",
       "      <td>NaN</td>\n",
       "      <td>NaN</td>\n",
       "      <td>NaN</td>\n",
       "      <td>0</td>\n",
       "      <td>NaN</td>\n",
       "      <td>NaN</td>\n",
       "      <td>0.0</td>\n",
       "      <td>0.0</td>\n",
       "      <td>0.0</td>\n",
       "      <td>0.0</td>\n",
       "    </tr>\n",
       "    <tr>\n",
       "      <th>3</th>\n",
       "      <td>95</td>\n",
       "      <td>2019090500</td>\n",
       "      <td>CHI</td>\n",
       "      <td>GB</td>\n",
       "      <td>GB</td>\n",
       "      <td>away</td>\n",
       "      <td>CHI</td>\n",
       "      <td>GB</td>\n",
       "      <td>75.0</td>\n",
       "      <td>2019-09-05</td>\n",
       "      <td>...</td>\n",
       "      <td>NaN</td>\n",
       "      <td>NaN</td>\n",
       "      <td>NaN</td>\n",
       "      <td>0</td>\n",
       "      <td>NaN</td>\n",
       "      <td>NaN</td>\n",
       "      <td>0.0</td>\n",
       "      <td>0.0</td>\n",
       "      <td>0.0</td>\n",
       "      <td>0.0</td>\n",
       "    </tr>\n",
       "    <tr>\n",
       "      <th>4</th>\n",
       "      <td>125</td>\n",
       "      <td>2019090500</td>\n",
       "      <td>CHI</td>\n",
       "      <td>GB</td>\n",
       "      <td>GB</td>\n",
       "      <td>away</td>\n",
       "      <td>CHI</td>\n",
       "      <td>GB</td>\n",
       "      <td>85.0</td>\n",
       "      <td>2019-09-05</td>\n",
       "      <td>...</td>\n",
       "      <td>NaN</td>\n",
       "      <td>NaN</td>\n",
       "      <td>NaN</td>\n",
       "      <td>0</td>\n",
       "      <td>NaN</td>\n",
       "      <td>NaN</td>\n",
       "      <td>0.0</td>\n",
       "      <td>0.0</td>\n",
       "      <td>0.0</td>\n",
       "      <td>0.0</td>\n",
       "    </tr>\n",
       "  </tbody>\n",
       "</table>\n",
       "<p>5 rows × 256 columns</p>\n",
       "</div>"
      ],
      "text/plain": [
       "   play_id     game_id home_team away_team posteam posteam_type defteam  \\\n",
       "0       35  2019090500       CHI        GB      GB         away     CHI   \n",
       "1       50  2019090500       CHI        GB      GB         away     CHI   \n",
       "2       71  2019090500       CHI        GB      GB         away     CHI   \n",
       "3       95  2019090500       CHI        GB      GB         away     CHI   \n",
       "4      125  2019090500       CHI        GB      GB         away     CHI   \n",
       "\n",
       "  side_of_field  yardline_100   game_date  ...  penalty_player_id  \\\n",
       "0           CHI          35.0  2019-09-05  ...                NaN   \n",
       "1            GB          75.0  2019-09-05  ...                NaN   \n",
       "2            GB          75.0  2019-09-05  ...                NaN   \n",
       "3            GB          75.0  2019-09-05  ...                NaN   \n",
       "4            GB          85.0  2019-09-05  ...                NaN   \n",
       "\n",
       "   penalty_player_name  penalty_yards replay_or_challenge  \\\n",
       "0                  NaN            NaN                   0   \n",
       "1                  NaN            NaN                   0   \n",
       "2                  NaN            NaN                   0   \n",
       "3                  NaN            NaN                   0   \n",
       "4                  NaN            NaN                   0   \n",
       "\n",
       "   replay_or_challenge_result  penalty_type  defensive_two_point_attempt  \\\n",
       "0                         NaN           NaN                          0.0   \n",
       "1                         NaN           NaN                          0.0   \n",
       "2                         NaN           NaN                          0.0   \n",
       "3                         NaN           NaN                          0.0   \n",
       "4                         NaN           NaN                          0.0   \n",
       "\n",
       "   defensive_two_point_conv  defensive_extra_point_attempt  \\\n",
       "0                       0.0                            0.0   \n",
       "1                       0.0                            0.0   \n",
       "2                       0.0                            0.0   \n",
       "3                       0.0                            0.0   \n",
       "4                       0.0                            0.0   \n",
       "\n",
       "   defensive_extra_point_conv  \n",
       "0                         0.0  \n",
       "1                         0.0  \n",
       "2                         0.0  \n",
       "3                         0.0  \n",
       "4                         0.0  \n",
       "\n",
       "[5 rows x 256 columns]"
      ]
     },
     "execution_count": 20,
     "metadata": {},
     "output_type": "execute_result"
    }
   ],
   "source": [
    "# preview all play by play data\n",
    "df.head()"
   ]
  },
  {
   "cell_type": "code",
   "execution_count": 21,
   "metadata": {},
   "outputs": [],
   "source": [
    "# narrow down to four columns\n",
    "new_df = df[[\"game_id\", \"posteam\", \"game_date\",\"ep\",\"epa\"]]"
   ]
  },
  {
   "cell_type": "code",
   "execution_count": 22,
   "metadata": {},
   "outputs": [
    {
     "data": {
      "text/html": [
       "<div>\n",
       "<style scoped>\n",
       "    .dataframe tbody tr th:only-of-type {\n",
       "        vertical-align: middle;\n",
       "    }\n",
       "\n",
       "    .dataframe tbody tr th {\n",
       "        vertical-align: top;\n",
       "    }\n",
       "\n",
       "    .dataframe thead th {\n",
       "        text-align: right;\n",
       "    }\n",
       "</style>\n",
       "<table border=\"1\" class=\"dataframe\">\n",
       "  <thead>\n",
       "    <tr style=\"text-align: right;\">\n",
       "      <th></th>\n",
       "      <th>game_id</th>\n",
       "      <th>posteam</th>\n",
       "      <th>game_date</th>\n",
       "      <th>ep</th>\n",
       "      <th>epa</th>\n",
       "    </tr>\n",
       "  </thead>\n",
       "  <tbody>\n",
       "    <tr>\n",
       "      <th>0</th>\n",
       "      <td>2019090500</td>\n",
       "      <td>GB</td>\n",
       "      <td>2019-09-05</td>\n",
       "      <td>0.814998</td>\n",
       "      <td>0.000000</td>\n",
       "    </tr>\n",
       "    <tr>\n",
       "      <th>1</th>\n",
       "      <td>2019090500</td>\n",
       "      <td>GB</td>\n",
       "      <td>2019-09-05</td>\n",
       "      <td>0.814998</td>\n",
       "      <td>-0.764363</td>\n",
       "    </tr>\n",
       "    <tr>\n",
       "      <th>2</th>\n",
       "      <td>2019090500</td>\n",
       "      <td>GB</td>\n",
       "      <td>2019-09-05</td>\n",
       "      <td>0.050636</td>\n",
       "      <td>-0.987734</td>\n",
       "    </tr>\n",
       "    <tr>\n",
       "      <th>3</th>\n",
       "      <td>2019090500</td>\n",
       "      <td>GB</td>\n",
       "      <td>2019-09-05</td>\n",
       "      <td>-0.937099</td>\n",
       "      <td>-2.221273</td>\n",
       "    </tr>\n",
       "    <tr>\n",
       "      <th>4</th>\n",
       "      <td>2019090500</td>\n",
       "      <td>GB</td>\n",
       "      <td>2019-09-05</td>\n",
       "      <td>-3.158372</td>\n",
       "      <td>0.714739</td>\n",
       "    </tr>\n",
       "  </tbody>\n",
       "</table>\n",
       "</div>"
      ],
      "text/plain": [
       "      game_id posteam   game_date        ep       epa\n",
       "0  2019090500      GB  2019-09-05  0.814998  0.000000\n",
       "1  2019090500      GB  2019-09-05  0.814998 -0.764363\n",
       "2  2019090500      GB  2019-09-05  0.050636 -0.987734\n",
       "3  2019090500      GB  2019-09-05 -0.937099 -2.221273\n",
       "4  2019090500      GB  2019-09-05 -3.158372  0.714739"
      ]
     },
     "execution_count": 22,
     "metadata": {},
     "output_type": "execute_result"
    }
   ],
   "source": [
    "new_df.head()"
   ]
  },
  {
   "cell_type": "code",
   "execution_count": 23,
   "metadata": {},
   "outputs": [],
   "source": [
    "# narrow down to just KC Chiefs\n",
    "kc_df = new_df[new_df['posteam'] == 'KC']"
   ]
  },
  {
   "cell_type": "code",
   "execution_count": 24,
   "metadata": {},
   "outputs": [
    {
     "data": {
      "text/html": [
       "<div>\n",
       "<style scoped>\n",
       "    .dataframe tbody tr th:only-of-type {\n",
       "        vertical-align: middle;\n",
       "    }\n",
       "\n",
       "    .dataframe tbody tr th {\n",
       "        vertical-align: top;\n",
       "    }\n",
       "\n",
       "    .dataframe thead th {\n",
       "        text-align: right;\n",
       "    }\n",
       "</style>\n",
       "<table border=\"1\" class=\"dataframe\">\n",
       "  <thead>\n",
       "    <tr style=\"text-align: right;\">\n",
       "      <th></th>\n",
       "      <th>game_id</th>\n",
       "      <th>posteam</th>\n",
       "      <th>game_date</th>\n",
       "      <th>ep</th>\n",
       "      <th>epa</th>\n",
       "    </tr>\n",
       "  </thead>\n",
       "  <tbody>\n",
       "    <tr>\n",
       "      <th>1073</th>\n",
       "      <td>2019090802</td>\n",
       "      <td>KC</td>\n",
       "      <td>2019-09-08</td>\n",
       "      <td>0.814998</td>\n",
       "      <td>0.001187</td>\n",
       "    </tr>\n",
       "    <tr>\n",
       "      <th>1074</th>\n",
       "      <td>2019090802</td>\n",
       "      <td>KC</td>\n",
       "      <td>2019-09-08</td>\n",
       "      <td>0.816185</td>\n",
       "      <td>-0.909412</td>\n",
       "    </tr>\n",
       "    <tr>\n",
       "      <th>1075</th>\n",
       "      <td>2019090802</td>\n",
       "      <td>KC</td>\n",
       "      <td>2019-09-08</td>\n",
       "      <td>-0.093227</td>\n",
       "      <td>0.609612</td>\n",
       "    </tr>\n",
       "    <tr>\n",
       "      <th>1076</th>\n",
       "      <td>2019090802</td>\n",
       "      <td>KC</td>\n",
       "      <td>2019-09-08</td>\n",
       "      <td>0.516385</td>\n",
       "      <td>6.483615</td>\n",
       "    </tr>\n",
       "    <tr>\n",
       "      <th>1077</th>\n",
       "      <td>2019090802</td>\n",
       "      <td>KC</td>\n",
       "      <td>2019-09-08</td>\n",
       "      <td>0.931115</td>\n",
       "      <td>0.068885</td>\n",
       "    </tr>\n",
       "  </tbody>\n",
       "</table>\n",
       "</div>"
      ],
      "text/plain": [
       "         game_id posteam   game_date        ep       epa\n",
       "1073  2019090802      KC  2019-09-08  0.814998  0.001187\n",
       "1074  2019090802      KC  2019-09-08  0.816185 -0.909412\n",
       "1075  2019090802      KC  2019-09-08 -0.093227  0.609612\n",
       "1076  2019090802      KC  2019-09-08  0.516385  6.483615\n",
       "1077  2019090802      KC  2019-09-08  0.931115  0.068885"
      ]
     },
     "execution_count": 24,
     "metadata": {},
     "output_type": "execute_result"
    }
   ],
   "source": [
    "kc_df.head()"
   ]
  },
  {
   "cell_type": "code",
   "execution_count": 30,
   "metadata": {},
   "outputs": [
    {
     "data": {
      "text/plain": [
       "2019111007    102\n",
       "2019120811     96\n",
       "2019091510     91\n",
       "2019092903     90\n",
       "2019092204     87\n",
       "2019111800     87\n",
       "2019090802     87\n",
       "2019122214     82\n",
       "2019110303     81\n",
       "2019120105     78\n",
       "2019121504     77\n",
       "2019102712     75\n",
       "2019100612     75\n",
       "2019101700     75\n",
       "2019101304     70\n",
       "2019122908     65\n",
       "Name: game_id, dtype: int64"
      ]
     },
     "execution_count": 30,
     "metadata": {},
     "output_type": "execute_result"
    }
   ],
   "source": [
    "# viewing total plays for each gameid\n",
    "\n",
    "kc_df['game_id'].value_counts()"
   ]
  },
  {
   "cell_type": "code",
   "execution_count": 34,
   "metadata": {},
   "outputs": [],
   "source": [
    "grouped_kc = kc_df.groupby(['game_id'])"
   ]
  },
  {
   "cell_type": "code",
   "execution_count": 35,
   "metadata": {},
   "outputs": [
    {
     "name": "stdout",
     "output_type": "stream",
     "text": [
      "<pandas.core.groupby.generic.DataFrameGroupBy object at 0x000002068FE6B390>\n"
     ]
    }
   ],
   "source": [
    "print(grouped_kc)"
   ]
  },
  {
   "cell_type": "code",
   "execution_count": 36,
   "metadata": {},
   "outputs": [
    {
     "data": {
      "text/plain": [
       "game_id\n",
       "2019090802    28.801525\n",
       "2019091510    14.364990\n",
       "2019092204    22.704070\n",
       "2019092903     4.758597\n",
       "2019100612    -3.505469\n",
       "2019101304     3.589811\n",
       "2019101700     0.412377\n",
       "2019102712     6.418160\n",
       "2019110303     6.321318\n",
       "2019111007    11.079394\n",
       "2019111800     2.865996\n",
       "2019120105    15.898788\n",
       "2019120811    -4.093171\n",
       "2019121504    14.888874\n",
       "2019122214    19.255271\n",
       "2019122908    20.761271\n",
       "Name: epa, dtype: float64"
      ]
     },
     "execution_count": 36,
     "metadata": {},
     "output_type": "execute_result"
    }
   ],
   "source": [
    "# viewing total EPA for each gameid\n",
    "\n",
    "grouped_kc['epa'].sum()"
   ]
  },
  {
   "cell_type": "code",
   "execution_count": 38,
   "metadata": {},
   "outputs": [],
   "source": [
    "# convert to a dataframe\n",
    "kcepa = pd.DataFrame(grouped_kc['epa'].sum())"
   ]
  },
  {
   "cell_type": "code",
   "execution_count": 39,
   "metadata": {},
   "outputs": [
    {
     "name": "stdout",
     "output_type": "stream",
     "text": [
      "                  epa\n",
      "game_id              \n",
      "2019090802  28.801525\n",
      "2019091510  14.364990\n",
      "2019092204  22.704070\n",
      "2019092903   4.758597\n",
      "2019100612  -3.505469\n",
      "2019101304   3.589811\n",
      "2019101700   0.412377\n",
      "2019102712   6.418160\n",
      "2019110303   6.321318\n",
      "2019111007  11.079394\n",
      "2019111800   2.865996\n",
      "2019120105  15.898788\n",
      "2019120811  -4.093171\n",
      "2019121504  14.888874\n",
      "2019122214  19.255271\n",
      "2019122908  20.761271\n"
     ]
    }
   ],
   "source": [
    "print(kcepa)"
   ]
  },
  {
   "cell_type": "code",
   "execution_count": 42,
   "metadata": {},
   "outputs": [],
   "source": [
    "kcepa.to_csv(\"kcepa.csv\")"
   ]
  },
  {
   "cell_type": "code",
   "execution_count": null,
   "metadata": {},
   "outputs": [],
   "source": []
  }
 ],
 "metadata": {
  "kernelspec": {
   "display_name": "Python 3",
   "language": "python",
   "name": "python3"
  },
  "language_info": {
   "codemirror_mode": {
    "name": "ipython",
    "version": 3
   },
   "file_extension": ".py",
   "mimetype": "text/x-python",
   "name": "python",
   "nbconvert_exporter": "python",
   "pygments_lexer": "ipython3",
   "version": "3.7.3"
  },
  "varInspector": {
   "cols": {
    "lenName": 16,
    "lenType": 16,
    "lenVar": 40
   },
   "kernels_config": {
    "python": {
     "delete_cmd_postfix": "",
     "delete_cmd_prefix": "del ",
     "library": "var_list.py",
     "varRefreshCmd": "print(var_dic_list())"
    },
    "r": {
     "delete_cmd_postfix": ") ",
     "delete_cmd_prefix": "rm(",
     "library": "var_list.r",
     "varRefreshCmd": "cat(var_dic_list()) "
    }
   },
   "types_to_exclude": [
    "module",
    "function",
    "builtin_function_or_method",
    "instance",
    "_Feature"
   ],
   "window_display": false
  }
 },
 "nbformat": 4,
 "nbformat_minor": 2
}
